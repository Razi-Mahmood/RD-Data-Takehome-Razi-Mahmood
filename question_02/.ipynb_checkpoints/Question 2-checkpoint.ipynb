{
 "cells": [
  {
   "cell_type": "markdown",
   "metadata": {},
   "source": [
    "# Question2\n",
    "\n",
    "You are given a classifier that reports high accuracy on the validation set:\n",
    "a. Would you be happy with these results or would you like to do more analysis.\n",
    "b. If so, what type of analysis would you perform?"
   ]
  },
  {
   "cell_type": "markdown",
   "metadata": {},
   "source": [
    "# Answer\n",
    "\n",
    "When the classifier is showing high validation accuracy, I would do more analysis.\n",
    "(a) Is the validation accuracy higher than training accuracy? \n",
    "(b) If the validation split similar in incidence distribution to the training split, i.e. is it sampled similarly or is it biased (particularly towards easy cases)\n",
    "(c) Is the result consistent in a k-fold cross-validation?\n",
    "If the answers to (a) is yes, then I would suspect overfitting as well. If the answer to (b) is that the validation split is different from the incidence distribution, then the result may not generalize to improved performance over test data.\n",
    "If cross-validation hasn't been done, then that could explain high validation accuracy on a specific split.\n",
    "(d) Finally, I would test the model on an independent dataset for the task and see if the performance holds.\n"
   ]
  }
 ],
 "metadata": {
  "kernelspec": {
   "display_name": "Python 3",
   "language": "python",
   "name": "python3"
  },
  "language_info": {
   "codemirror_mode": {
    "name": "ipython",
    "version": 3
   },
   "file_extension": ".py",
   "mimetype": "text/x-python",
   "name": "python",
   "nbconvert_exporter": "python",
   "pygments_lexer": "ipython3",
   "version": "3.7.6"
  }
 },
 "nbformat": 4,
 "nbformat_minor": 4
}
