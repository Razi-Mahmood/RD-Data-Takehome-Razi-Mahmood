{
 "cells": [
  {
   "cell_type": "markdown",
   "metadata": {},
   "source": [
    "# Question 4\n",
    "\n",
    "Now, consider the case where you had to manage a dataset with millions images rather than a few hundred. How will you change your dataset building and storing methods for:\n",
    "a. Faster access, given that data data lives on the cloud infrastructure like S3\n",
    "b. Faster data re-sampling, to create custom datasets\n",
    "c. Faster data-loader access for faster training"
   ]
  },
  {
   "cell_type": "markdown",
   "metadata": {},
   "source": [
    "# Answer\n",
    "\n",
    "a. Faster access, given that data data lives on the cloud infrastructure like S3\n",
    ">> For this, we can use parallelization, there are also newer frameworks such as CodeFlare from IBM that coordinates with cloud object stores for data serving.\n",
    "Pandas may be more suitable for in-memory, other database access mechanisms may need to be explored like PostgreSQL\n",
    ">> Loading from pickle file may speed up things.\n",
    "\n",
    "b. Faster data re-sampling, to create custom datasets\n",
    ">>\n",
    "If you have large datasets, why would we want to do re-sampling since we have sufficient data? Assuming the question was about how to do sampling in large datasets, in pandas, skiprows is an option for faster sampling.\n",
    "\n",
    "c.  Faster data-loader access for faster training\n",
    ">>\n",
    "For large datasets, in keras we have the ImageDataGenerator class that I have already used for my answer to question 3. This class according to keras ocumentation, using this class, images are loaded for a single dataset in batches and it is suitable for both small datasets as well as for very large image datasets with thousands or millions of images.\n",
    "\n",
    "\n"
   ]
  }
 ],
 "metadata": {
  "kernelspec": {
   "display_name": "Python 3",
   "language": "python",
   "name": "python3"
  },
  "language_info": {
   "codemirror_mode": {
    "name": "ipython",
    "version": 3
   },
   "file_extension": ".py",
   "mimetype": "text/x-python",
   "name": "python",
   "nbconvert_exporter": "python",
   "pygments_lexer": "ipython3",
   "version": "3.7.6"
  }
 },
 "nbformat": 4,
 "nbformat_minor": 4
}
