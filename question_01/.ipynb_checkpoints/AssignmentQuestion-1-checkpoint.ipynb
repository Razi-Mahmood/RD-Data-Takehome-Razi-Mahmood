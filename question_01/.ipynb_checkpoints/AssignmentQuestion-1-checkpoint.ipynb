{
 "cells": [
  {
   "cell_type": "code",
   "execution_count": 2,
   "metadata": {},
   "outputs": [],
   "source": [
    "%reload_ext autoreload\n",
    "#%load_ext autoreload\n",
    "%autoreload 2"
   ]
  },
  {
   "cell_type": "markdown",
   "metadata": {},
   "source": [
    "###Question 1:\n",
    "Design & build a small dataset (about 100+ images) to differentiate between real and fake face images. Please explain:\n",
    "a. Considerations that went into deciding what data to collect.\n",
    "b. How you went about collecting the data.\n",
    "c. Besides fake/real labels, what other labels would you consider? Explain a simple method to sample a uniform dataset in the i.i.d sense, given the labels.\n",
    "d. What API (e.g Pandas, etc.) you used to store and organize meta information about the dataset.\n",
    "e. Please share your mini-dataset as a zip file."
   ]
  },
  {
   "cell_type": "markdown",
   "metadata": {},
   "source": [
    "### A. Considerations that went into deciding what data to collect.\n",
    "    1. The dataset should ideally show a variety of deep fake operations, i.e. synthetic, identity swapping, attribute manipulation, and expression swap\n",
    "    2. In addition, the dataset should have good demographic distribution of males, females, age distribution (young to old), different races and ethnicities.\n",
    "    3. Restricted to image datasets as per the problem specification\n",
    "    4. Was freely available with no behind firewall, paid licensing, or other such requirement.\n",
    "    5. Was not too large to fit in my computer memory"
   ]
  },
  {
   "cell_type": "markdown",
   "metadata": {},
   "source": [
    "## B. How data was collected\n",
    "Identified two datasets that seem to have a variety of content satisfying the requirements above. \n",
    "Faces-HQ  is a dataset that was collected by Durall et al. as described in their 2019 paper \"Unmasking DeepFakes with simple Features\" (https://arxiv.org/abs/1911.00686)\n",
    "Unmasking DeepFakes with simple Features\n",
    "They created a database called Faces-HQ by collecting fake and real face data from multiple sources from CelebA-HQ dataset, Flickr-Faces-HQ dataset, 100K Facesproject and www.thispersondoesnotexist.com. In total, they had collected 40K high quality images being half of them real and the other half fake faces, achieving in this manner a balanced dataset.\n",
    "\n",
    "Since this dataset had the real and fake images subdivided into categories describining the nature of the faking process, and seeming to cover the different methods of fake face generation. I chose this dataset for experimentation as I could sample from this distribution to approximate the IID requirement in part C of question 1. The dataset is available from :\n",
    "https://drive.google.com/file/d/1rokPjCHe30mZBnk7J5j0MiIuUAuOqHoQ/view\n",
    "For example, both real and fake belong to these major categories:\n",
    "exit_phone_room\n",
    "hugging_happy\n",
    "kitchen_pan\n",
    "kitchen_still\n",
    "meeting_serious\n",
    "outside_talking_pan_laughing\n",
    "outside_talking_still_laughing\n",
    "podium_speech_happy\n",
    "secret_conversation\n",
    "talking_against_wall\n",
    "talking_angry_couch\n",
    "walk_down_hall_angry\n",
    "walking_and_outside_surprised\n",
    "walking_down_indoor_hall_disgust\n",
    "walking_down_street_outside_angry\n",
    "walking_outside_cafe_disgusted\n",
    "\n",
    "\n",
    "I also examined another dataset from Kaggle contributed by Aman Chaudhary that had an interesting racial mix of faces, possibly a late entry after the DFDC challenge was over. This dataset was used to train and test the CNN model described in answer to question 3. This dataset was downloaded from https://www.kaggle.com/datasets/agcy1210/fake-and-real-image-dataset?resource=download"
   ]
  },
  {
   "cell_type": "markdown",
   "metadata": {},
   "source": [
    "## Besides fake/real labels, what other labels would you consider? Explain a simple method to sample a uniform dataset in the i.i.d sense, given the labels.\n",
    "\n",
    "Since the goal is to classify fake and real, these are the top level labels of interest. However, in the Faces-HQ dataset, there was further labels at finer granularity. Looking at the distribution of these finer-grained labels, as shown by the cell below, we observe that the inner class labels are unbalanced in each real and fake classes.\n",
    "\n",
    "exit_phone_room 102\n",
    "hugging_happy 187\n",
    "kitchen_pan 17\n",
    "kitchen_still 323\n",
    "meeting_serious 51\n",
    "outside_talking_pan_laughing 170\n",
    "outside_talking_still_laughing 306\n",
    "podium_speech_happy 323\n",
    "secret_conversation 85\n",
    "talking_against_wall 255\n",
    "talking_angry_couch 238\n",
    "walk_down_hall_angry 85\n",
    "walking_and_outside_surprised 85\n",
    "walking_down_indoor_hall_disgust 204\n",
    "walking_down_street_outside_angry 102\n",
    "walking_outside_cafe_disgusted 85\n",
    "\n",
    "Assuming the original data was an IID distribution, we sample the train,validate and test distributions randomly from each overall class so that the resulting incidence distributions of the inner classes remains similar to the original distributions. This type of sampling will insure the resulting splits are IID as well."
   ]
  },
  {
   "cell_type": "code",
   "execution_count": 270,
   "metadata": {},
   "outputs": [
    {
     "name": "stdout",
     "output_type": "stream",
     "text": [
      "Total number of files in  real  =  2468\n",
      "outside_talking_still_laughing 335\n",
      "hugging_happy 180\n",
      "walking_down_street_outside_angry 44\n",
      "podium_speech_happy 342\n",
      "talking_against_wall 261\n",
      "kitchen_still 324\n",
      "walking_down_indoor_hall_disgust 186\n",
      "walking_and_outside_surprised 85\n",
      "talking_angry_couch 255\n",
      "outside_talking_pan_laughing 43\n",
      "secret_conversation 51\n",
      "walking_outside_cafe_disgusted 78\n",
      "exit_phone_room 38\n",
      "walk_down_hall_angry 32\n",
      "meeting_serious 60\n",
      "kitchen_pan 3\n",
      "Total number of files in  fake  =  1680\n"
     ]
    },
    {
     "data": {
      "image/png": "[encoded data removed]",
      "text/plain": [
       "<Figure size 432x288 with 2 Axes>"
      ]
     },
     "metadata": {
      "needs_background": "light"
     },
     "output_type": "display_data"
    }
   ],
   "source": [
    "#this pre-processing was to make it easy to visualize the distribution of the datasets.\n",
    "import os\n",
    "import matplotlib.pyplot as plt\n",
    "from collections import OrderedDict\n",
    "def collect_categstats(dirname,type,namelist=None):\n",
    "    hist={}\n",
    "    total=0\n",
    "    \n",
    "    for root, dirs, files in os.walk(dirname, topdown=False):\n",
    "        for name in dirs:\n",
    "            if (not name.startswith(\".\")):\n",
    "                dir=os.path.join(root, name)\n",
    "                #if \"real\" in dir:\n",
    "                for root_dir, cur_dir, files in os.walk(dir):\n",
    "                   # print(files)\n",
    "                    count = len(files)\n",
    "                    total+=count\n",
    "                #print(count,type,name)\n",
    "                hist[name]=count\n",
    "    print(\"Total number of files in \", type,\" = \",total)\n",
    "    od = OrderedDict()\n",
    "    \n",
    "    for name in hist:\n",
    "        if \"__\" in name:\n",
    "            namecore=name.split(\"__\")[1]\n",
    "        else:\n",
    "            namecore=name\n",
    "        if namecore not in od:\n",
    "            od[namecore]=hist[name]\n",
    "        else:\n",
    "            od[namecore]+=hist[name]\n",
    "       \n",
    "    if (namelist is None):\n",
    "        namelist=[]\n",
    "        for namecore in od:\n",
    "            namelist.append(namecore)\n",
    "            print(namecore,od[namecore])\n",
    "    return od,namelist\n",
    "\n",
    "def plot_hist(hist1,hist2,namelist):\n",
    "    names1=[]\n",
    "    values1=[]\n",
    "    names2=[]\n",
    "    values2=[]\n",
    "    for name in namelist:\n",
    "        names1.append(name)\n",
    "        if name in hist1:\n",
    "            values1.append(hist1[name])\n",
    "        else:\n",
    "            values1.append(0)\n",
    "        names2.append(name)\n",
    "        if name in hist2:\n",
    "            values2.append(hist2[name])\n",
    "        else:\n",
    "            values2.append(0)\n",
    "  #  for i in range(len(names1)):\n",
    "  #      print(names1[i],values1[i])\n",
    "   #     print(names2[i],values2[i])\n",
    "   # print(len(hist1) ,\" keys\")\n",
    "    plt.subplot(1, 2, 1) # row 1, col 2 index 1\n",
    "    plt.bar(range(len(names1)), values1, tick_label=names1)\n",
    "    plt.title(\"Real face distribution\")\n",
    "    plt.xlabel('The categories ')\n",
    "    plt.ylabel('Number of Images Per Category')\n",
    "    plt.subplot(1, 2, 2) # index 2\n",
    "    plt.bar(range(len(names2)), values2, tick_label=names2)\n",
    "    plt.title(\"Fake face distribution\")\n",
    "    plt.xlabel('The categories ')\n",
    "    plt.ylabel('Number of Images Per Category')\n",
    "    plt.show()\n",
    "\n",
    "   \n",
    "\n",
    "\n",
    "od_real,namelist=collect_categstats(\"../data/original/real\",\"real\")\n",
    "od_fake,namelist=collect_categstats(\"../data/original/fake\",\"fake\",namelist)\n",
    "plot_hist(hist_real,hist_fake,namelist)"
   ]
  },
  {
   "cell_type": "code",
   "execution_count": 271,
   "metadata": {},
   "outputs": [
    {
     "data": {
      "text/plain": [
       "['outside_talking_still_laughing',\n",
       " 'hugging_happy',\n",
       " 'walking_down_street_outside_angry',\n",
       " 'podium_speech_happy',\n",
       " 'talking_against_wall',\n",
       " 'kitchen_still',\n",
       " 'walking_down_indoor_hall_disgust',\n",
       " 'walking_and_outside_surprised',\n",
       " 'talking_angry_couch',\n",
       " 'outside_talking_pan_laughing',\n",
       " 'secret_conversation',\n",
       " 'walking_outside_cafe_disgusted',\n",
       " 'exit_phone_room',\n",
       " 'walk_down_hall_angry',\n",
       " 'meeting_serious',\n",
       " 'kitchen_pan']"
      ]
     },
     "execution_count": 271,
     "metadata": {},
     "output_type": "execute_result"
    }
   ],
   "source": [
    "namelist"
   ]
  },
  {
   "cell_type": "code",
   "execution_count": 267,
   "metadata": {},
   "outputs": [],
   "source": [
    "#this section does random sampling of 100 images with 50 images each from the real and fake dataset\n",
    "import random\n",
    "import shutil\n",
    "def random_sampledata(dirname,type,num_samples,outdir):\n",
    "    hist={}\n",
    "    total=0\n",
    "    samplecount=0\n",
    "    rc=[]\n",
    "    allfiles=[]\n",
    "    takenset=set()\n",
    "    for root, dirs, files in os.walk(dirname, topdown=False):\n",
    "        for name in dirs:\n",
    "            if (not name.startswith(\".\")):\n",
    "                dir=os.path.join(root, name)\n",
    "                #if \"real\" in dir:\n",
    "                for root_dir, cur_dir, files in os.walk(dir):\n",
    "                    for file in files:\n",
    "                        path=root_dir+\"/\"+file\n",
    "                        allfiles.append(path)\n",
    "    print(\"Total number of files = \",len(allfiles))\n",
    "    while len(rc)<num_samples:\n",
    "        i = random.randint(0, len(allfiles))\n",
    "        if (i<len(allfiles)):\n",
    "            if i not in takenset:\n",
    "                takenset.add(i)\n",
    "                path=allfiles[i]\n",
    "                #print(path)\n",
    "                rc.append(path)\n",
    "    #copy the data into a new directory\n",
    "    \n",
    "    for file in rc:\n",
    "        if not os.path.exists(outdir):\n",
    "            os.makedirs(outdir)\n",
    "        shutil.copy(file, outdir)\n",
    "    return rc,allfiles\n",
    "    \n",
    "def plot_samplehist(filelist1,filelist2,namelist):\n",
    "    \n",
    "    hMap1={}\n",
    "    hMap2={}\n",
    "    for name in filelist1:\n",
    "        print(name)\n",
    "        if \"__\" in name:\n",
    "            namecore=str(name).split(\"__\")[1]\n",
    "        else:\n",
    "            namecore=str(name)\n",
    "        namecore=namecore.split(\"/\")[0]\n",
    "        print(namecore)\n",
    "        if namecore not in hMap1:\n",
    "            hMap1[namecore]=1\n",
    "        else:\n",
    "            hMap1[namecore]+=1\n",
    "    for name in filelist2:\n",
    "        if \"__\" in name:\n",
    "            namecore=str(name).split(\"__\")[1]\n",
    "        else:\n",
    "            namecore=str(name)\n",
    "        namecore=namecore.split(\"/\")[0]\n",
    "       # print(namecore)\n",
    "        if namecore not in hMap2:\n",
    "            hMap2[namecore]=1\n",
    "        else:\n",
    "            hMap2[namecore]+=1\n",
    "    print(len(hMap1),len(hMap2))\n",
    "    plot_hist(hMap1,hMap2,namelist)\n",
    "    \n",
    "    \n",
    "def plot_samplehistDF(df1,df2,namelist):\n",
    "    \n",
    "    hMap1={}\n",
    "    hMap2={}\n",
    "    dfindex=df1.index\n",
    "   \n",
    "    for ind in df1.index:\n",
    "        name=str(df1['Sample'][ind])\n",
    "       \n",
    "        #name=str(dfcol[index])\n",
    "       # print(name)\n",
    "        if \"__\" in name:\n",
    "            namecore=str(name).split(\"__\")[1]\n",
    "        else:\n",
    "            namecore=str(name)\n",
    "        namecore=namecore.split(\"/\")[0]\n",
    "      #  print(namecore)\n",
    "        if namecore not in hMap1:\n",
    "            hMap1[namecore]=1\n",
    "        else:\n",
    "            hMap1[namecore]+=1\n",
    "    for ind in df2.index:\n",
    "        name=str(df2['Sample'][ind])\n",
    "        if \"__\" in name:\n",
    "            namecore=str(name).split(\"__\")[1]\n",
    "        else:\n",
    "            namecore=str(name)\n",
    "        namecore=namecore.split(\"/\")[0]\n",
    "       # print(namecore)\n",
    "        if namecore not in hMap2:\n",
    "            hMap2[namecore]=1\n",
    "        else:\n",
    "            hMap2[namecore]+=1\n",
    "   # print(len(hMap1),len(hMap2))\n",
    "    plot_hist(hMap1,hMap2,namelist)\n",
    "        "
   ]
  },
  {
   "cell_type": "code",
   "execution_count": 220,
   "metadata": {},
   "outputs": [
    {
     "name": "stdout",
     "output_type": "stream",
     "text": [
      "Total number of files =  2468\n",
      "Total number of files =  1680\n"
     ]
    }
   ],
   "source": [
    "real_files,allreal=random_sampledata(\"../data/original/real\",\"real\",50,\"../data/sampled/real\")\n",
    "fake_files,allfake=random_sampledata(\"../data/original/fake\",\"fake\",50,\"../data/sampled/fake\")"
   ]
  },
  {
   "cell_type": "code",
   "execution_count": 272,
   "metadata": {},
   "outputs": [],
   "source": [
    "def get_allfilelist(dirname):\n",
    "    allfiles=[]\n",
    "    for root, dirs, files in os.walk(dirname, topdown=False):\n",
    "        for name in dirs:\n",
    "            if (not name.startswith(\".\")):\n",
    "                dir=os.path.join(root, name)\n",
    "            #if \"real\" in dir:\n",
    "                for root_dir, cur_dir, files in os.walk(dir):\n",
    "                    for file in files:\n",
    "                        path=root_dir+\"/\"+file\n",
    "                        allfiles.append(path)\n",
    "    return allfiles\n",
    "\n",
    "def random_sampledata(dirname,num_samples,outdir):\n",
    "    allfiles=get_allfilelist(dirname)\n",
    "    df = pd.DataFrame(allfiles)\n",
    "    dfsample=df.sample(num_samples)\n",
    "    dfsample.columns=['Sample']\n",
    "    print(dfsample.head())\n",
    "    return dfsample"
   ]
  },
  {
   "cell_type": "code",
   "execution_count": 258,
   "metadata": {},
   "outputs": [
    {
     "name": "stdout",
     "output_type": "stream",
     "text": [
      "                                                 Sample\n",
      "1939  ../data/original/real/01__talking_against_wall...\n",
      "2399  ../data/original/real/19__podium_speech_happy/...\n",
      "1546  ../data/original/real/15__walking_down_indoor_...\n",
      "2369  ../data/original/real/03__walk_down_hall_angry...\n",
      "2406  ../data/original/real/19__podium_speech_happy/...\n",
      "                                                 Sample\n",
      "1322  ../data/original/fake/18_04__walking_outside_c...\n",
      "1146  ../data/original/fake/06_27__walking_outside_c...\n",
      "1484  ../data/original/fake/13_25__exit_phone_room__...\n",
      "761   ../data/original/fake/19_10__talking_against_w...\n",
      "455   ../data/original/fake/23_19__walking_down_indo...\n"
     ]
    }
   ],
   "source": [
    "real_sample=random_sampledata(\"../data/original/real\",50,\"../data/sampled/real\")\n",
    "fake_sample=random_sampledata(\"../data/original/fake\",50,\"../data/sampled/fake\")"
   ]
  },
  {
   "cell_type": "code",
   "execution_count": 273,
   "metadata": {},
   "outputs": [
    {
     "name": "stdout",
     "output_type": "stream",
     "text": [
      "10 13\n"
     ]
    },
    {
     "data": {
      "image/png": "[encoded data removed]",
      "text/plain": [
       "<Figure size 432x288 with 2 Axes>"
      ]
     },
     "metadata": {
      "needs_background": "light"
     },
     "output_type": "display_data"
    }
   ],
   "source": [
    "plot_samplehistDF(real_sample,fake_sample,namelist)"
   ]
  },
  {
   "cell_type": "code",
   "execution_count": 225,
   "metadata": {},
   "outputs": [
    {
     "data": {
      "text/html": [
       "<div>\n",
       "<style scoped>\n",
       "    .dataframe tbody tr th:only-of-type {\n",
       "        vertical-align: middle;\n",
       "    }\n",
       "\n",
       "    .dataframe tbody tr th {\n",
       "        vertical-align: top;\n",
       "    }\n",
       "\n",
       "    .dataframe thead th {\n",
       "        text-align: right;\n",
       "    }\n",
       "</style>\n",
       "<table border=\"1\" class=\"dataframe\">\n",
       "  <thead>\n",
       "    <tr style=\"text-align: right;\">\n",
       "      <th></th>\n",
       "      <th>0</th>\n",
       "    </tr>\n",
       "  </thead>\n",
       "  <tbody>\n",
       "    <tr>\n",
       "      <th>0</th>\n",
       "      <td>../data/original/real/17__outside_talking_stil...</td>\n",
       "    </tr>\n",
       "    <tr>\n",
       "      <th>1</th>\n",
       "      <td>../data/original/real/17__outside_talking_stil...</td>\n",
       "    </tr>\n",
       "    <tr>\n",
       "      <th>2</th>\n",
       "      <td>../data/original/real/17__outside_talking_stil...</td>\n",
       "    </tr>\n",
       "    <tr>\n",
       "      <th>3</th>\n",
       "      <td>../data/original/real/17__outside_talking_stil...</td>\n",
       "    </tr>\n",
       "    <tr>\n",
       "      <th>4</th>\n",
       "      <td>../data/original/real/17__outside_talking_stil...</td>\n",
       "    </tr>\n",
       "  </tbody>\n",
       "</table>\n",
       "</div>"
      ],
      "text/plain": [
       "                                                   0\n",
       "0  ../data/original/real/17__outside_talking_stil...\n",
       "1  ../data/original/real/17__outside_talking_stil...\n",
       "2  ../data/original/real/17__outside_talking_stil...\n",
       "3  ../data/original/real/17__outside_talking_stil...\n",
       "4  ../data/original/real/17__outside_talking_stil..."
      ]
     },
     "execution_count": 225,
     "metadata": {},
     "output_type": "execute_result"
    }
   ],
   "source": [
    "#using pandas data frames now\n",
    "import pandas as pd\n",
    "dfreal = pd.DataFrame(allreal)\n",
    "dffake=pd.DataFrame(allfake)\n",
    "dfreal.head()\n",
    "#dffake.head()"
   ]
  },
  {
   "cell_type": "code",
   "execution_count": 223,
   "metadata": {},
   "outputs": [],
   "source": [
    "sample_real=dfreal.sample(50)"
   ]
  },
  {
   "cell_type": "code",
   "execution_count": 224,
   "metadata": {},
   "outputs": [
    {
     "data": {
      "text/html": [
       "<div>\n",
       "<style scoped>\n",
       "    .dataframe tbody tr th:only-of-type {\n",
       "        vertical-align: middle;\n",
       "    }\n",
       "\n",
       "    .dataframe tbody tr th {\n",
       "        vertical-align: top;\n",
       "    }\n",
       "\n",
       "    .dataframe thead th {\n",
       "        text-align: right;\n",
       "    }\n",
       "</style>\n",
       "<table border=\"1\" class=\"dataframe\">\n",
       "  <thead>\n",
       "    <tr style=\"text-align: right;\">\n",
       "      <th></th>\n",
       "      <th>0</th>\n",
       "    </tr>\n",
       "  </thead>\n",
       "  <tbody>\n",
       "    <tr>\n",
       "      <th>1081</th>\n",
       "      <td>../data/original/real/14__walk_down_hall_angry...</td>\n",
       "    </tr>\n",
       "    <tr>\n",
       "      <th>236</th>\n",
       "      <td>../data/original/real/01__walking_down_indoor_...</td>\n",
       "    </tr>\n",
       "    <tr>\n",
       "      <th>1822</th>\n",
       "      <td>../data/original/real/06__talking_angry_couch/...</td>\n",
       "    </tr>\n",
       "    <tr>\n",
       "      <th>1026</th>\n",
       "      <td>../data/original/real/27__walking_down_indoor_...</td>\n",
       "    </tr>\n",
       "    <tr>\n",
       "      <th>2001</th>\n",
       "      <td>../data/original/real/20__outside_talking_stil...</td>\n",
       "    </tr>\n",
       "    <tr>\n",
       "      <th>1043</th>\n",
       "      <td>../data/original/real/14__outside_talking_stil...</td>\n",
       "    </tr>\n",
       "    <tr>\n",
       "      <th>959</th>\n",
       "      <td>../data/original/real/13__walking_outside_cafe...</td>\n",
       "    </tr>\n",
       "    <tr>\n",
       "      <th>2028</th>\n",
       "      <td>../data/original/real/20__walking_down_indoor_...</td>\n",
       "    </tr>\n",
       "    <tr>\n",
       "      <th>683</th>\n",
       "      <td>../data/original/real/03__kitchen_still/3566.jpg</td>\n",
       "    </tr>\n",
       "    <tr>\n",
       "      <th>2411</th>\n",
       "      <td>../data/original/real/19__podium_speech_happy/...</td>\n",
       "    </tr>\n",
       "  </tbody>\n",
       "</table>\n",
       "</div>"
      ],
      "text/plain": [
       "                                                      0\n",
       "1081  ../data/original/real/14__walk_down_hall_angry...\n",
       "236   ../data/original/real/01__walking_down_indoor_...\n",
       "1822  ../data/original/real/06__talking_angry_couch/...\n",
       "1026  ../data/original/real/27__walking_down_indoor_...\n",
       "2001  ../data/original/real/20__outside_talking_stil...\n",
       "1043  ../data/original/real/14__outside_talking_stil...\n",
       "959   ../data/original/real/13__walking_outside_cafe...\n",
       "2028  ../data/original/real/20__walking_down_indoor_...\n",
       "683    ../data/original/real/03__kitchen_still/3566.jpg\n",
       "2411  ../data/original/real/19__podium_speech_happy/..."
      ]
     },
     "execution_count": 224,
     "metadata": {},
     "output_type": "execute_result"
    }
   ],
   "source": [
    "sample_real"
   ]
  },
  {
   "cell_type": "code",
   "execution_count": null,
   "metadata": {},
   "outputs": [],
   "source": []
  }
 ],
 "metadata": {
  "kernelspec": {
   "display_name": "Python 3",
   "language": "python",
   "name": "python3"
  },
  "language_info": {
   "codemirror_mode": {
    "name": "ipython",
    "version": 3
   },
   "file_extension": ".py",
   "mimetype": "text/x-python",
   "name": "python",
   "nbconvert_exporter": "python",
   "pygments_lexer": "ipython3",
   "version": "3.7.6"
  }
 },
 "nbformat": 4,
 "nbformat_minor": 4
}
